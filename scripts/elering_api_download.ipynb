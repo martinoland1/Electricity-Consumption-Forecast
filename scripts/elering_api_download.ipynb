{
 "cells": [
  {
   "cell_type": "code",
   "execution_count": 2,
   "id": "9f0e0289",
   "metadata": {},
   "outputs": [
    {
     "name": "stdout",
     "output_type": "stream",
     "text": [
      "        datetime_hour  Tarbimine  consumption_hourly       viga  viga_protsent\n",
      "0 2025-09-17 21:00:00      712.1          710.404740   1.695260       0.238065\n",
      "1 2025-09-17 22:00:00      681.7          675.017802   6.682198       0.980226\n",
      "2 2025-09-17 23:00:00      668.8          659.912795   8.887205       1.328829\n",
      "3 2025-09-18 00:00:00      676.0          658.397113  17.602887       2.603977\n",
      "4 2025-09-18 01:00:00      678.7          663.745422  14.954578       2.203415\n",
      "Võrdlustabel salvestatud: forecast_vs_actual_comparison_hourly.csv\n"
     ]
    }
   ],
   "source": [
    "# Eleringi forecasti ja tegeliku tarbimise võrdlus, viga ja protsent\n",
    "import pandas as pd\n",
    "forecast_path = \"C:/Users/tarmo/OneDrive/Dokumendid/GIT Andmetarkus/portfolio/Electricity-Consumption-Forecast/scripts/output/forecast_consumption_hourly_next7_tallinn_20250918_20250924.csv\"\n",
    "df_forecast = pd.read_csv(\n",
    "    forecast_path,\n",
    "    sep=';',\n",
    "    decimal=',',\n",
    "    skipinitialspace=True,\n",
    "    encoding='cp1257'  # Või 'latin1' kui cp1257 ei tööta',\n",
    ")\n",
    "\n",
    "import pytz\n",
    "dt_forecast = pd.to_datetime(df_forecast['datetime_local'], utc=False)\n",
    "if dt_forecast.dt.tz is None:\n",
    "    dt_forecast = dt_forecast.dt.tz_localize('Europe/Tallinn')\n",
    "dt_forecast_utc = dt_forecast.dt.tz_convert('UTC')\n",
    "df_forecast['datetime_hour'] = dt_forecast_utc.dt.floor('h')\n",
    "\n",
    "# Update the actuals_path to the correct absolute path\n",
    "actuals_path = \"C:/Users/tarmo/OneDrive/Dokumendid/GIT Andmetarkus/portfolio/Electricity-Consumption-Forecast/scripts/elering_actual_from_20250917.csv\"\n",
    "df_actual = pd.read_csv(actuals_path, sep=',', decimal=',', skipinitialspace=True, encoding='utf-8')\n",
    "df_actual['datetime_hour'] = pd.to_datetime(df_actual['Ajatempel (UTC)'].astype(float), unit='s', utc=True).dt.floor('h')\n",
    "\n",
    "df_actual['Tarbimine'] = (\n",
    "    df_actual['Tarbimine']\n",
    "    .astype(str)\n",
    "    .str.replace('\"', '')\n",
    "    .str.replace(',', '.')\n",
    "    .str.strip()\n",
    "    )\n",
    "df_actual['Tarbimine'] = pd.to_numeric(df_actual['Tarbimine'], errors='coerce')\n",
    "df_forecast['consumption_hourly'] = (\n",
    "    df_forecast['consumption_hourly']\n",
    "    .astype(str)\n",
    "    .str.replace('\"', '')\n",
    "    .str.replace(',', '.')\n",
    "    .str.strip()\n",
    "    )\n",
    "df_forecast['consumption_hourly'] = pd.to_numeric(df_forecast['consumption_hourly'], errors='coerce')\n",
    "if hasattr(df_actual['datetime_hour'].dt, 'tz'):\n",
    "    df_actual['datetime_hour'] = df_actual['datetime_hour'].dt.tz_localize(None)\n",
    "if hasattr(df_forecast['datetime_hour'].dt, 'tz'):\n",
    "    df_forecast['datetime_hour'] = df_forecast['datetime_hour'].dt.tz_localize(None)\n",
    "df_merge = pd.merge(df_actual, df_forecast, on='datetime_hour', suffixes=('_actual', '_forecast'))\n",
    "df_merge['viga'] = df_merge['Tarbimine'] - df_merge['consumption_hourly']\n",
    "df_merge['viga_protsent'] = 100 * df_merge['viga'] / df_merge['Tarbimine']\n",
    "print(df_merge[['datetime_hour', 'Tarbimine', 'consumption_hourly', 'viga', 'viga_protsent']].head())\n",
    "df_merge.to_csv(\"forecast_vs_actual_comparison_hourly.csv\", index=False)\n",
    "print(\"Võrdlustabel salvestatud: forecast_vs_actual_comparison_hourly.csv\")"
   ]
  }
 ],
 "metadata": {
  "kernelspec": {
   "display_name": "Python 3",
   "language": "python",
   "name": "python3"
  },
  "language_info": {
   "codemirror_mode": {
    "name": "ipython",
    "version": 3
   },
   "file_extension": ".py",
   "mimetype": "text/x-python",
   "name": "python",
   "nbconvert_exporter": "python",
   "pygments_lexer": "ipython3",
   "version": "3.13.7"
  }
 },
 "nbformat": 4,
 "nbformat_minor": 5
}
