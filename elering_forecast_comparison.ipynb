{
 "cells": [
  {
   "cell_type": "markdown",
   "id": "dd2c5145",
   "metadata": {},
   "source": [
    "# Eleringi tegelike tarbimisandmete ja prognooside võrdlus\n",
    "\n",
    "Selles notebookis laaditakse Eleringi API-st alla tegelikud tarbimisandmed alates 17.10.2025 ning võrreldakse neid kõigi meie forecast-failide prognoosidega. Tulemused esitatakse pivot-tabelina, kus iga tulp näitab erineva prognoosihorisondi viga."
   ]
  },
  {
   "cell_type": "markdown",
   "id": "4ea56ffb",
   "metadata": {},
   "source": [
    "## 1. Vajalikud teegid\n",
    "\n",
    "Impordime vajalikud Python teegid: pandas, requests, pathlib, datetime."
   ]
  },
  {
   "cell_type": "code",
   "execution_count": null,
   "id": "2f754a91",
   "metadata": {},
   "outputs": [],
   "source": [
    "import requests\n",
    "import pandas as pd\n",
    "from pathlib import Path\n",
    "from datetime import datetime, timedelta"
   ]
  },
  {
   "cell_type": "markdown",
   "id": "34a0f05f",
   "metadata": {},
   "source": [
    "## 2. Probleemi püstitus\n",
    "\n",
    "Laadida Eleringi API-st alla tegelikud tunnipõhised tarbimisandmed alates 17.10.2025 ning võrrelda neid kõigi meie forecast-failide prognoosidega. Tulemused esitatakse pivot-tabelina, kus iga tulp näitab erineva prognoosihorisondi viga."
   ]
  }
 ],
 "metadata": {
  "language_info": {
   "name": "python"
  }
 },
 "nbformat": 4,
 "nbformat_minor": 5
}
