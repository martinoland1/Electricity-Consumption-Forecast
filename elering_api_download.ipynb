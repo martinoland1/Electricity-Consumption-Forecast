{
 "cells": [
  {
   "cell_type": "markdown",
   "id": "57fd048e",
   "metadata": {},
   "source": [
    "# Eleringi API andmete laadimine\n",
    "\n",
    "See notebook laeb tunnipõhised tarbimisandmed Eleringi API-st alates 2025-10-17 kuni tänaseni ja salvestab need CSV-faili."
   ]
  },
  {
   "cell_type": "code",
   "execution_count": 2,
   "id": "0755ed2e",
   "metadata": {},
   "outputs": [],
   "source": [
    "# 1. Import Required Libraries\n",
    "import requests\n",
    "import pandas as pd\n",
    "from datetime import datetime"
   ]
  },
  {
   "cell_type": "markdown",
   "id": "7c34dd5b",
   "metadata": {},
   "source": [
    "## 2. Määra Eleringi API lõpp-punkt ja parameetrid\n",
    "Määrame API URL-i ja päringu parameetrid (algus- ja lõppkuupäev, intervall)."
   ]
  },
  {
   "cell_type": "code",
   "execution_count": 3,
   "id": "71de794e",
   "metadata": {},
   "outputs": [
    {
     "name": "stderr",
     "output_type": "stream",
     "text": [
      "C:\\Users\\tarmo\\AppData\\Local\\Temp\\ipykernel_31024\\2055854956.py:5: DeprecationWarning: datetime.datetime.utcnow() is deprecated and scheduled for removal in a future version. Use timezone-aware objects to represent datetimes in UTC: datetime.datetime.now(datetime.UTC).\n",
      "  \"end\": datetime.utcnow().strftime(\"%Y-%m-%dT%H:%M:%S.000Z\"),\n"
     ]
    }
   ],
   "source": [
    "# 2. Set Elering API Endpoint and Parameters\n",
    "url = \"https://dashboard.elering.ee/api/nps/production-consumption\"\n",
    "params = {\n",
    "    \"start\": \"2025-10-17T00:00:00.000Z\",\n",
    "    \"end\": datetime.utcnow().strftime(\"%Y-%m-%dT%H:%M:%S.000Z\"),\n",
    "    \"interval\": \"hour\"\n",
    "}"
   ]
  },
  {
   "cell_type": "markdown",
   "id": "015cfb1e",
   "metadata": {},
   "source": [
    "## 3. Laadi andmed Eleringi API-st\n",
    "Teeme GET-päringu ja kontrollime vastust."
   ]
  },
  {
   "cell_type": "code",
   "execution_count": 4,
   "id": "e68741e0",
   "metadata": {},
   "outputs": [
    {
     "name": "stdout",
     "output_type": "stream",
     "text": [
      "Viga API päringus: 500\n"
     ]
    }
   ],
   "source": [
    "# 3. Fetch Data from Elering API\n",
    "response = requests.get(url, params=params)\n",
    "if response.status_code == 200:\n",
    "    data = response.json()\n",
    "    print(f\"Andmed edukalt laetud, kirjeid: {len(data['data'])}\")\n",
    "else:\n",
    "    print(f\"Viga API päringus: {response.status_code}\")"
   ]
  },
  {
   "cell_type": "markdown",
   "id": "cc0e9f2d",
   "metadata": {},
   "source": [
    "## 4. Andmete parsimine ja salvestamine\n",
    "Laeme saadud andmed pandas DataFrame'i, kuvame esimesed read ja salvestame CSV-faili."
   ]
  },
  {
   "cell_type": "code",
   "execution_count": 8,
   "id": "00c4be94",
   "metadata": {},
   "outputs": [
    {
     "name": "stdout",
     "output_type": "stream",
     "text": [
      "        datetime_hour  Tarbimine  consumption_hourly       viga\n",
      "0 2025-09-17 21:00:00      712.1          710.404740   1.695260\n",
      "1 2025-09-17 22:00:00      681.7          675.017802   6.682198\n",
      "2 2025-09-17 23:00:00      668.8          659.912795   8.887205\n",
      "3 2025-09-18 00:00:00      676.0          658.397113  17.602887\n",
      "4 2025-09-18 01:00:00      678.7          663.745422  14.954578\n",
      "Võrdlustabel salvestatud: forecast_vs_actual_comparison_hourly.csv\n"
     ]
    }
   ],
   "source": [
    "# 4.1 Lae forecasti fail (poolitaja ;, koma kümnendik)\n",
    "forecast_path = \"scripts/output/forecast_consumption_hourly_next7_tallinn_20250918_20250924corr.csv\"\n",
    "df_forecast = pd.read_csv(\n",
    "    forecast_path,\n",
    "    sep=';',\n",
    "    decimal=',',\n",
    "    skipinitialspace=True,\n",
    "    encoding='cp1257'  # Või 'latin1' kui cp1257 ei tööta\n",
    ")\n",
    "\n",
    "# 4.2 Forecasti ajatempeli UTC-ks ja tunnipõhiseks\n",
    "import pytz\n",
    "dt_forecast = pd.to_datetime(df_forecast['datetime_local'], utc=False)\n",
    "if dt_forecast.dt.tz is None:\n",
    "    dt_forecast = dt_forecast.dt.tz_localize('Europe/Tallinn')\n",
    "dt_forecast_utc = dt_forecast.dt.tz_convert('UTC')\n",
    "df_forecast['datetime_hour'] = dt_forecast_utc.dt.floor('h')\n",
    "\n",
    "# 4.3 Lae tegeliku tarbimise fail (poolitaja ,)\n",
    "actuals_path = \"scripts/elering_actual_from_20250917.csv\"\n",
    "df_actual = pd.read_csv(actuals_path, sep=',', decimal=',', skipinitialspace=True, encoding='utf-8')\n",
    "df_actual['datetime_hour'] = pd.to_datetime(df_actual['Ajatempel (UTC)'].astype(float), unit='s', utc=True).dt.floor('h')\n",
    "\n",
    "# 4.4 Puhasta ja teisenda tarbimise veerud numbriks, tee mõlemad datetime_hour veerud timezone-naive'iks, ühenda ja arvuta viga\n",
    "df_actual['Tarbimine'] = (\n",
    "    df_actual['Tarbimine']\n",
    "    .astype(str)\n",
    "    .str.replace('\"', '')\n",
    "    .str.replace(',', '.')\n",
    "    .str.strip()\n",
    ")\n",
    "df_actual['Tarbimine'] = pd.to_numeric(df_actual['Tarbimine'], errors='coerce')\n",
    "df_forecast['consumption_hourly'] = (\n",
    "    df_forecast['consumption_hourly']\n",
    "    .astype(str)\n",
    "    .str.replace('\"', '')\n",
    "    .str.replace(',', '.')\n",
    "    .str.strip()\n",
    ")\n",
    "df_forecast['consumption_hourly'] = pd.to_numeric(df_forecast['consumption_hourly'], errors='coerce')\n",
    "# Tee mõlemad datetime_hour veerud timezone-naive'iks\n",
    "if hasattr(df_actual['datetime_hour'].dt, 'tz'):\n",
    "    df_actual['datetime_hour'] = df_actual['datetime_hour'].dt.tz_localize(None)\n",
    "if hasattr(df_forecast['datetime_hour'].dt, 'tz'):\n",
    "    df_forecast['datetime_hour'] = df_forecast['datetime_hour'].dt.tz_localize(None)\n",
    "df_merge = pd.merge(df_actual, df_forecast, on='datetime_hour', suffixes=('_actual', '_forecast'))\n",
    "df_merge['viga'] = df_merge['Tarbimine'] - df_merge['consumption_hourly']\n",
    "df_merge['viga_protsent'] = 100 * df_merge['viga'] / df_merge['Tarbimine']\n",
    "print(df_merge[['datetime_hour', 'Tarbimine', 'consumption_hourly', 'viga', 'viga_protsent']].head())\n",
    "# Salvesta tulemus CSV-faili, et saaks Excelis uurida\n",
    "df_merge.to_csv(\"forecast_vs_actual_comparison_hourly.csv\", index=False)\n",
    "print(\"Võrdlustabel salvestatud: forecast_vs_actual_comparison_hourly.csv\")"
   ]
  }
 ],
 "metadata": {
  "kernelspec": {
   "display_name": "Python 3",
   "language": "python",
   "name": "python3"
  },
  "language_info": {
   "codemirror_mode": {
    "name": "ipython",
    "version": 3
   },
   "file_extension": ".py",
   "mimetype": "text/x-python",
   "name": "python",
   "nbconvert_exporter": "python",
   "pygments_lexer": "ipython3",
   "version": "3.13.7"
  }
 },
 "nbformat": 4,
 "nbformat_minor": 5
}
